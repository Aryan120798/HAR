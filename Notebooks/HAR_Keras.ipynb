{
 "cells": [
  {
   "cell_type": "markdown",
   "metadata": {
    "colab_type": "text",
    "id": "nVRz1hNjcWLl"
   },
   "source": [
    "# Importing the libraries"
   ]
  },
  {
   "cell_type": "code",
   "execution_count": null,
   "metadata": {
    "colab": {
     "base_uri": "https://localhost:8080/",
     "height": 214
    },
    "colab_type": "code",
    "executionInfo": {
     "elapsed": 33969,
     "status": "ok",
     "timestamp": 1581001515700,
     "user": {
      "displayName": "pratik choudhari",
      "photoUrl": "https://lh3.googleusercontent.com/a-/AAuE7mBPaVU2Pbv6kqXQypsyYMqqMLmfypUuC0lPayo6xA=s64",
      "userId": "00300096424314136055"
     },
     "user_tz": -330
    },
    "id": "b-5ltreFcWLs",
    "outputId": "859c0d22-a4d4-4928-a266-ea44b9ea5a5d"
   },
   "outputs": [],
   "source": [
    "#Importing libraries\n",
    "import time\n",
    "import pandas as pd\n",
    "import matplotlib.pyplot as plt\n",
    "import numpy as np\n",
    "from sklearn.preprocessing import StandardScaler, MinMaxScaler\n",
    "from sklearn.metrics import classification_report\n",
    "from keras.models import Sequential\n",
    "from keras.layers import Dense, LSTM, Dropout\n",
    "from keras.optimizers import Adam\n",
    "import os.path as osp\n",
    "import tensorflow as tf\n",
    "tf.logging.set_verbosity(tf.logging.ERROR)\n",
    "\n",
    "from google.colab import drive\n",
    "drive.mount('/gdrive')\n",
    "%cd /gdrive/My Drive"
   ]
  },
  {
   "cell_type": "markdown",
   "metadata": {
    "colab_type": "text",
    "id": "CzoDXgfFcWL-"
   },
   "source": [
    "# Reading and oragnizing data"
   ]
  },
  {
   "cell_type": "code",
   "execution_count": null,
   "metadata": {
    "colab": {
     "base_uri": "https://localhost:8080/",
     "height": 206
    },
    "colab_type": "code",
    "executionInfo": {
     "elapsed": 35339,
     "status": "ok",
     "timestamp": 1581001517102,
     "user": {
      "displayName": "pratik choudhari",
      "photoUrl": "https://lh3.googleusercontent.com/a-/AAuE7mBPaVU2Pbv6kqXQypsyYMqqMLmfypUuC0lPayo6xA=s64",
      "userId": "00300096424314136055"
     },
     "user_tz": -330
    },
    "id": "FI4glUBzcWMC",
    "outputId": "fa22087c-e8bd-44b9-de23-74f5ec89816c"
   },
   "outputs": [],
   "source": [
    "#Read csv file\n",
    "df0 = pd.read_csv('Colab Notebooks/data/final-15oct.csv')\n",
    "test = pd.read_csv('Colab Notebooks/data/test_walk1.csv')\n",
    "df0.head()"
   ]
  },
  {
   "cell_type": "code",
   "execution_count": null,
   "metadata": {
    "colab": {
     "base_uri": "https://localhost:8080/",
     "height": 202
    },
    "colab_type": "code",
    "executionInfo": {
     "elapsed": 35321,
     "status": "ok",
     "timestamp": 1581001517107,
     "user": {
      "displayName": "pratik choudhari",
      "photoUrl": "https://lh3.googleusercontent.com/a-/AAuE7mBPaVU2Pbv6kqXQypsyYMqqMLmfypUuC0lPayo6xA=s64",
      "userId": "00300096424314136055"
     },
     "user_tz": -330
    },
    "id": "XYF32DlYFW1b",
    "outputId": "5d3bff65-ddc5-41ed-95c2-9747a2a6d946"
   },
   "outputs": [],
   "source": [
    "df0.info()"
   ]
  },
  {
   "cell_type": "code",
   "execution_count": null,
   "metadata": {
    "colab": {
     "base_uri": "https://localhost:8080/",
     "height": 35
    },
    "colab_type": "code",
    "executionInfo": {
     "elapsed": 35305,
     "status": "ok",
     "timestamp": 1581001517112,
     "user": {
      "displayName": "pratik choudhari",
      "photoUrl": "https://lh3.googleusercontent.com/a-/AAuE7mBPaVU2Pbv6kqXQypsyYMqqMLmfypUuC0lPayo6xA=s64",
      "userId": "00300096424314136055"
     },
     "user_tz": -330
    },
    "id": "OD2LmNDY5rNO",
    "outputId": "b25903b5-b738-478c-bdbf-722a7795bf26"
   },
   "outputs": [],
   "source": [
    "#Deal with empty values in train\n",
    "def clean(df0):\n",
    "  if((df0.isnull().any()).any()):\n",
    "    print(\"Null values found\")\n",
    "    print(df.isnull().sum())\n",
    "    df0.replace('',np.nan, inplace=True)\n",
    "    df0=df0.dropna()\n",
    "    print(\"Null droppped\")\n",
    "  else:\n",
    "    print('No Null values')\n",
    "  return df0\n",
    "df0 = clean(df0)"
   ]
  },
  {
   "cell_type": "code",
   "execution_count": null,
   "metadata": {
    "colab": {
     "base_uri": "https://localhost:8080/",
     "height": 507
    },
    "colab_type": "code",
    "executionInfo": {
     "elapsed": 35754,
     "status": "ok",
     "timestamp": 1581001517583,
     "user": {
      "displayName": "pratik choudhari",
      "photoUrl": "https://lh3.googleusercontent.com/a-/AAuE7mBPaVU2Pbv6kqXQypsyYMqqMLmfypUuC0lPayo6xA=s64",
      "userId": "00300096424314136055"
     },
     "user_tz": -330
    },
    "id": "dkd6OopP_197",
    "outputId": "348edef9-6e83-43f4-a116-7315f292d374"
   },
   "outputs": [],
   "source": [
    "#visuaise records\n",
    "val=df0['Activity'].value_counts()\n",
    "print(val)\n",
    "print('-------------------------------------')\n",
    "plt.figure(figsize=(15,5))\n",
    "val.plot(kind='bar')"
   ]
  },
  {
   "cell_type": "code",
   "execution_count": null,
   "metadata": {
    "colab": {},
    "colab_type": "code",
    "id": "0mky4C2ccWMZ"
   },
   "outputs": [],
   "source": [
    "#Split dataset into X and y\n",
    "def split(df):\n",
    "  X=df.iloc[:,1:4]\n",
    "  y=df.iloc[:,4:5]\n",
    "  X= X.astype(float)\n",
    "  X= np.asarray(X)\n",
    "  return X,y\n",
    "\n",
    "#One Hot Encode Y\n",
    "def ohe(y):\n",
    "  y=pd.get_dummies(y)\n",
    "  y= y.astype(int)\n",
    "  y= np.asarray(y)\n",
    "  return y\n",
    "\n",
    "#Inverse One Hot Encoding\n",
    "def de_ohe(y):\n",
    "  deohe = np.array([])\n",
    "  for i in y:\n",
    "    n = np.argmax(i)\n",
    "    if n == 3:\n",
    "      deohe = np.append(deohe, ['WALKING'])\n",
    "    elif n == 2:\n",
    "      deohe = np.append(deohe, ['UPSTAIRS'])\n",
    "    elif n == 1:\n",
    "      deohe = np.append(deohe, ['SITTING'])\n",
    "    elif n == 0:\n",
    "      deohe = np.append(deohe, ['DOWNSTAIRS'])\n",
    "  return deohe\n",
    "\n",
    "#Standard Scale X\n",
    "def scale(X):\n",
    "  sc=StandardScaler()\n",
    "  X=sc.fit_transform(X)\n",
    "  return X\n",
    "\n",
    "#Normalise X\n",
    "def mmscale(X):\n",
    "  mm = MinMaxScaler()\n",
    "  mm.fit_transform(X)\n",
    "  return X\n",
    "\n",
    "#Makes no. samples per class equal\n",
    "def symmetrify(df):\n",
    "  unique = []\n",
    "  df2 = pd.DataFrame()\n",
    "  val = df['Activity'].value_counts()\n",
    "  count = list(val)\n",
    "  mini = min(count)\n",
    "  for i in range(0,len(df)):\n",
    "    act = df.at[i, 'Activity']\n",
    "    if act not in unique:\n",
    "      unique = unique + [act]\n",
    "      df2 = df2.append(df.iloc[i : (i+mini), :])\n",
    "  print(unique)\n",
    "  print(df2['Activity'].value_counts())\n",
    "  return df2, mini\n",
    "\n",
    "#Create batches of data\n",
    "def temporalize(ts, X, y):\n",
    "    X_in=[]\n",
    "    y_in=[]\n",
    "    for i in range(ts, len(X), ts):\n",
    "        n1 = X[i-ts:i,:]\n",
    "        X_in.append(n1.tolist())\n",
    "        if type(y) != int:\n",
    "            n2=y[i-ts:i,:]\n",
    "            y_in.append(n2.tolist())\n",
    "    X_in=np.asarray(X_in ,dtype=np.float32)\n",
    "    if type(y) != int:\n",
    "        y_in=np.asarray(y_in, dtype=np.float32)\n",
    "    return X_in, y_in\n",
    "\n",
    "#Visualize history object\n",
    "def visualize(history):\n",
    "  plt.figure(figsize=(10,10))\n",
    "  plt.subplot(2, 1, 1)\n",
    "  plt.plot(history.history['loss'])\n",
    "  plt.xlabel('EPOCH', color='w')\n",
    "  plt.ylabel('LOSS' , color='w')\n",
    "  plt.subplot(2, 1, 2)\n",
    "  plt.plot(history.history['acc'])\n",
    "  plt.title('model accuracy')\n",
    "  plt.ylabel('accuracy')\n",
    "  plt.xlabel('epoch')\n",
    "  plt.legend(['train', 'test'], loc='upper left')\n",
    "  plt.show()\n",
    "  return 0"
   ]
  },
  {
   "cell_type": "code",
   "execution_count": null,
   "metadata": {
    "colab": {
     "base_uri": "https://localhost:8080/",
     "height": 128
    },
    "colab_type": "code",
    "executionInfo": {
     "elapsed": 2576,
     "status": "ok",
     "timestamp": 1581001533069,
     "user": {
      "displayName": "pratik choudhari",
      "photoUrl": "https://lh3.googleusercontent.com/a-/AAuE7mBPaVU2Pbv6kqXQypsyYMqqMLmfypUuC0lPayo6xA=s64",
      "userId": "00300096424314136055"
     },
     "user_tz": -330
    },
    "id": "jx9B0PbFzZG6",
    "outputId": "61505b84-8834-4c37-ae6f-b8a9358b55b1"
   },
   "outputs": [],
   "source": [
    "df, mini = symmetrify(df0)"
   ]
  },
  {
   "cell_type": "code",
   "execution_count": null,
   "metadata": {
    "colab": {
     "base_uri": "https://localhost:8080/",
     "height": 532
    },
    "colab_type": "code",
    "executionInfo": {
     "elapsed": 2874,
     "status": "ok",
     "timestamp": 1580969687938,
     "user": {
      "displayName": "pratik choudhari",
      "photoUrl": "https://lh3.googleusercontent.com/a-/AAuE7mBPaVU2Pbv6kqXQypsyYMqqMLmfypUuC0lPayo6xA=s64",
      "userId": "00300096424314136055"
     },
     "user_tz": -330
    },
    "id": "ApMDC_0vnu7w",
    "outputId": "663635e5-d95a-4f44-99a0-0c035fcb2040"
   },
   "outputs": [],
   "source": [
    "#plot of downstairs\n",
    "a = 0\n",
    "b = 500\n",
    "fig, axes = plt.subplots(2, 2, figsize=(22, 8))\n",
    "ts = df[\"TS\"].iloc[0:500]\n",
    "z= df[\"Z\"].iloc[0:500]\n",
    "y= df[\"Y\"].iloc[0:500]\n",
    "x= df[\"X\"].iloc[0:500]\n",
    "axes[0,0].plot(ts, x, lw=1)\n",
    "axes[0,0].plot(ts, y, lw=1)\n",
    "axes[0,0].plot(ts, z, lw=1)\n",
    "axes[0,0].legend(['x', 'y', 'z'], loc='upper left')\n",
    "axes[0,0].set_title(\"Downstairs\")\n",
    "\n",
    "#plot of walking\n",
    "a = mini + 1\n",
    "b = mini + 501\n",
    "ts = df[\"TS\"].iloc[a:b]\n",
    "z= df[\"Z\"].iloc[a:b]\n",
    "y= df[\"Y\"].iloc[a:b]\n",
    "x= df[\"X\"].iloc[a:b]\n",
    "axes[0,1].plot(ts, x, lw=1)\n",
    "axes[0,1].plot(ts, y, lw=1)\n",
    "axes[0,1].plot(ts, z, lw=1)\n",
    "axes[0,1].legend(['x', 'y', 'z'], loc='upper left')\n",
    "axes[0,1].set_title(\"Walking\")\n",
    "\n",
    "#plot of upstairs\n",
    "a = mini*2 + 1\n",
    "b = mini*2 + 501\n",
    "ts = df[\"TS\"].iloc[a:b]\n",
    "z= df[\"Z\"].iloc[a:b]\n",
    "y= df[\"Y\"].iloc[a:b]\n",
    "x= df[\"X\"].iloc[a:b]\n",
    "axes[1,0].plot(ts, x, lw=1)\n",
    "axes[1,0].plot(ts, y, lw=1)\n",
    "axes[1,0].plot(ts, z, lw=1)\n",
    "axes[1,0].legend(['x', 'y', 'z'], loc='upper left')\n",
    "axes[1,0].set_title(\"Upstairs\")\n",
    "\n",
    "#plot of sitting\n",
    "a = mini*3 + 1\n",
    "b = mini*3 + 501\n",
    "ts = df[\"TS\"].iloc[a:b]\n",
    "z= df[\"Z\"].iloc[a:b]\n",
    "y= df[\"Y\"].iloc[a:b]\n",
    "x= df[\"X\"].iloc[a:b]\n",
    "axes[1,1].plot(ts, x, lw=1)\n",
    "axes[1,1].plot(ts, y, lw=1)\n",
    "axes[1,1].plot(ts, z, lw=1)\n",
    "axes[1,1].legend(['x', 'y', 'z'], loc='upper left')\n",
    "axes[1,1].set_title(\"Sitting\")\n",
    "plt.show()"
   ]
  },
  {
   "cell_type": "code",
   "execution_count": null,
   "metadata": {
    "colab": {},
    "colab_type": "code",
    "id": "oGj_E40Bsqtr"
   },
   "outputs": [],
   "source": [
    "X,y = split(df)\n",
    "\n",
    "X_mm = mmscale(X)\n",
    "\n",
    "y_ohe = ohe(y)"
   ]
  },
  {
   "cell_type": "code",
   "execution_count": null,
   "metadata": {
    "colab": {},
    "colab_type": "code",
    "id": "7FlGS3M9CVEI"
   },
   "outputs": [],
   "source": [
    "def temporalizetry(ts, X, y):\n",
    "    X_in=[]\n",
    "    y_in=[]\n",
    "    for i in range(ts, len(X) - ts, 20):\n",
    "        xs = X[i:i+ts,0:1]\n",
    "        ys = X[i:i+ts,1:2]\n",
    "        zs = X[i:i+ts,2:3]\n",
    "        X_in.append([np.asarray(xs),np.asarray(ys),np.asarray(zs)])\n",
    "        y_in.append(y[i:i+ts,:].tolist())\n",
    "    X_in=np.asarray(X_in ,dtype=np.float32)\n",
    "    y_in=np.asarray(y_in, dtype = np.float32)\n",
    "    return X_in, y_in"
   ]
  },
  {
   "cell_type": "code",
   "execution_count": null,
   "metadata": {
    "colab": {},
    "colab_type": "code",
    "id": "heliOrkeDNQu"
   },
   "outputs": [],
   "source": [
    "X_in, y_in=temporalizetry(70, X, y_ohe)\n",
    "X_in = X_in.reshape(8043,70,3)"
   ]
  },
  {
   "cell_type": "code",
   "execution_count": null,
   "metadata": {
    "colab": {
     "base_uri": "https://localhost:8080/",
     "height": 35
    },
    "colab_type": "code",
    "executionInfo": {
     "elapsed": 908,
     "status": "ok",
     "timestamp": 1581005258621,
     "user": {
      "displayName": "pratik choudhari",
      "photoUrl": "https://lh3.googleusercontent.com/a-/AAuE7mBPaVU2Pbv6kqXQypsyYMqqMLmfypUuC0lPayo6xA=s64",
      "userId": "00300096424314136055"
     },
     "user_tz": -330
    },
    "id": "8ihvmTs6IyBY",
    "outputId": "13d1cb89-8467-48d6-ca57-1af79cab4b8f"
   },
   "outputs": [],
   "source": [
    "np.array(X_in).shape"
   ]
  },
  {
   "cell_type": "code",
   "execution_count": null,
   "metadata": {
    "colab": {
     "base_uri": "https://localhost:8080/",
     "height": 35
    },
    "colab_type": "code",
    "executionInfo": {
     "elapsed": 904,
     "status": "ok",
     "timestamp": 1581005277645,
     "user": {
      "displayName": "pratik choudhari",
      "photoUrl": "https://lh3.googleusercontent.com/a-/AAuE7mBPaVU2Pbv6kqXQypsyYMqqMLmfypUuC0lPayo6xA=s64",
      "userId": "00300096424314136055"
     },
     "user_tz": -330
    },
    "id": "7E9VGEJwQdvH",
    "outputId": "b595d334-c97a-4bff-f073-e6a3732f9414"
   },
   "outputs": [],
   "source": [
    "X_in[0][0]"
   ]
  },
  {
   "cell_type": "markdown",
   "metadata": {
    "colab_type": "text",
    "id": "8sHqgM4OcWNS"
   },
   "source": [
    "# Assemble the model"
   ]
  },
  {
   "cell_type": "code",
   "execution_count": null,
   "metadata": {
    "colab": {
     "base_uri": "https://localhost:8080/",
     "height": 754
    },
    "colab_type": "code",
    "executionInfo": {
     "elapsed": 33268,
     "status": "ok",
     "timestamp": 1581007329734,
     "user": {
      "displayName": "pratik choudhari",
      "photoUrl": "https://lh3.googleusercontent.com/a-/AAuE7mBPaVU2Pbv6kqXQypsyYMqqMLmfypUuC0lPayo6xA=s64",
      "userId": "00300096424314136055"
     },
     "user_tz": -330
    },
    "id": "z_kQddkPcWNb",
    "outputId": "fe5a94df-b60a-4059-b8c4-986e187294cb"
   },
   "outputs": [],
   "source": [
    "net = ''\n",
    "from datetime import datetime \n",
    "from tensorflow import keras\n",
    "start_time = time.time()\n",
    "logdir=\"logs/fit/\" + datetime.now().strftime(\"%Y%m%d-%H%M%S\")\n",
    "tensorboard_callback = keras.callbacks.TensorBoard(log_dir=logdir)\n",
    "\n",
    "net= Sequential()\n",
    "\n",
    "adam = Adam(lr=0.01)\n",
    "\n",
    "#net.add(LSTM(units=100, input_shape=(X_in.shape[1],X_in.shape[2]),return_sequences=True))\n",
    "net.add(LSTM(units=64, input_shape=(X_in.shape[1],X_in.shape[2]),return_sequences=True))\n",
    "#net.add(Dropout(0.2))\n",
    "net.add(LSTM(units=64, return_sequences=True))\n",
    "#net.add(Dense(units=64))\n",
    "\n",
    "#net.add(Dropout(0.2))\n",
    "\n",
    "net.add(Dense(units=4, activation='softmax'))\n",
    "\n",
    "net.compile(optimizer=adam, loss= 'categorical_crossentropy', metrics=['accuracy'])\n",
    "\n",
    "history=net.fit(X_in, y_in, shuffle=False, verbose=1, epochs=2, batch_size=1024, callbacks=[tensorboard_callback])\n",
    "print(\"----------- Metrics -----------\")\n",
    "\n",
    "print(\"Accuracy:\" + str(max(history.history['acc'])))\n",
    "\n",
    "print(\"Loss:\" + str(max(history.history['loss'])))\n",
    "\n",
    "visualize(history)\n",
    "\n",
    "print(\"----------- Time: %d minutes -----------\" % round((time.time() - start_time)/60,2))"
   ]
  },
  {
   "cell_type": "code",
   "execution_count": null,
   "metadata": {
    "colab": {
     "base_uri": "https://localhost:8080/",
     "height": 53
    },
    "colab_type": "code",
    "executionInfo": {
     "elapsed": 26671,
     "status": "ok",
     "timestamp": 1571580726131,
     "user": {
      "displayName": "pratik choudhari",
      "photoUrl": "https://lh3.googleusercontent.com/a-/AAuE7mBPaVU2Pbv6kqXQypsyYMqqMLmfypUuC0lPayo6xA=s64",
      "userId": "00300096424314136055"
     },
     "user_tz": -330
    },
    "id": "Ep1jxCdhg9pf",
    "outputId": "35900c9d-bf65-4c22-f985-79b9625de885"
   },
   "outputs": [],
   "source": [
    "test_X, test_y_eval = split(test)\n",
    "test_y = ohe(test_y_eval)\n",
    "test_X = mmscale(test_X)\n",
    "test_X, test_y=temporalize(70, test_X, test_y)\n",
    "test_y_pred=net.predict(test_X)\n",
    "rows = test_y_pred.shape[0]*test_y_pred.shape[1]\n",
    "test_y_pred= test_y_pred.reshape(rows, 4)\n",
    "test_y_pred = (de_ohe(test_y_pred))\n",
    "print(test_y.shape)\n",
    "print(test_y_pred.shape)"
   ]
  },
  {
   "cell_type": "code",
   "execution_count": null,
   "metadata": {
    "colab": {
     "base_uri": "https://localhost:8080/",
     "height": 273
    },
    "colab_type": "code",
    "executionInfo": {
     "elapsed": 26670,
     "status": "ok",
     "timestamp": 1571580726136,
     "user": {
      "displayName": "pratik choudhari",
      "photoUrl": "https://lh3.googleusercontent.com/a-/AAuE7mBPaVU2Pbv6kqXQypsyYMqqMLmfypUuC0lPayo6xA=s64",
      "userId": "00300096424314136055"
     },
     "user_tz": -330
    },
    "id": "LvMCnu8IsY9a",
    "outputId": "a1a97021-f0d7-4a13-8628-73cf2503502e"
   },
   "outputs": [],
   "source": [
    "print(classification_report(test_y_eval.iloc[0 : rows], test_y_pred))"
   ]
  }
 ],
 "metadata": {
  "accelerator": "TPU",
  "colab": {
   "collapsed_sections": [],
   "name": "HAR_DL.ipynb",
   "provenance": [
    {
     "file_id": "13VX_FZNwW9v-ItWsQmcp9PCL_QPp4qJQ",
     "timestamp": 1569252260149
    }
   ]
  },
  "kernelspec": {
   "display_name": "Python 3",
   "language": "python",
   "name": "python3"
  },
  "language_info": {
   "codemirror_mode": {
    "name": "ipython",
    "version": 3
   },
   "file_extension": ".py",
   "mimetype": "text/x-python",
   "name": "python",
   "nbconvert_exporter": "python",
   "pygments_lexer": "ipython3",
   "version": "3.7.4"
  }
 },
 "nbformat": 4,
 "nbformat_minor": 4
}
